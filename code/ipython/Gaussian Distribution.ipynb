{
 "cells": [
  {
   "cell_type": "markdown",
   "metadata": {},
   "source": [
    "# Gaussian Distribution\n",
    "\n",
    "Also known as a *normal* distribution or informally as the *bell curve*. Below is the python implementation of the guassian function.\n",
    "\n",
    "![Gaussian Formula](../../www/images/gaussian-formula.svg)"
   ]
  },
  {
   "cell_type": "code",
   "execution_count": 2,
   "metadata": {
    "scrolled": true
   },
   "outputs": [
    {
     "data": {
      "image/png": "[encoded data removed]",
      "text/plain": [
       "<matplotlib.figure.Figure at 0x7efbc58a62d0>"
      ]
     },
     "metadata": {},
     "output_type": "display_data"
    }
   ],
   "source": [
    "import math, random\n",
    "import numpy as np\n",
    "import matplotlib.pyplot as plt\n",
    "\n",
    "def gaussian(x, mean, stddev):\n",
    "    return (1.0 / (math.sqrt(2.0 * math.pi * stddev))) * math.exp(-((x - mean)**2.0 / 2.0 * stddev))\n",
    "\n",
    "def gaussian_2(x, mu, sig):\n",
    "    return 1.0 / (math.sqrt(2.0 * math.pi * sig) ** -((x - mu) ** 2.0) / 2.0 * sig) \n",
    "\n",
    "def gaussian_3(x, mu, sig):\n",
    "    return 1./(math.sqrt(2.*math.pi)*sig)*np.exp(-np.power((x - mu)/sig, 2.)/2)\n",
    "\n",
    "x = np.linspace(-5.0, 5.0, 100)\n",
    "y  = [gaussian(x_, 0.0, 2.0) for x_ in x]\n",
    "y2 = [gaussian_2(x_, 0.0, 2.0) for x_ in x]\n",
    "y3 = [gaussian_3(x_, 0.0, 1.0) for x_ in x]\n",
    "\n",
    "# plt.plot(x, y)\n",
    "# plt.plot(x, y2)\n",
    "plt.plot(x, y3)\n",
    "plt.show()"
   ]
  },
  {
   "cell_type": "code",
   "execution_count": null,
   "metadata": {
    "collapsed": true
   },
   "outputs": [],
   "source": []
  },
  {
   "cell_type": "code",
   "execution_count": null,
   "metadata": {
    "collapsed": true
   },
   "outputs": [],
   "source": []
  }
 ],
 "metadata": {
  "kernelspec": {
   "display_name": "Python (BB ML Doc)",
   "language": "python",
   "name": "bb-ml-doc"
  },
  "language_info": {
   "codemirror_mode": {
    "name": "ipython",
    "version": 2
   },
   "file_extension": ".py",
   "mimetype": "text/x-python",
   "name": "python",
   "nbconvert_exporter": "python",
   "pygments_lexer": "ipython2",
   "version": "2.7.12"
  }
 },
 "nbformat": 4,
 "nbformat_minor": 2
}
