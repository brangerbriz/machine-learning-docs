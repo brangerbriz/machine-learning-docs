{
 "cells": [
  {
   "cell_type": "markdown",
   "metadata": {},
   "source": [
    "# Normalization and Whitening\n",
    "\n",
    "Most machine learning algorithms only perform well on data that has been properly prepaired. In practice it is almost always preferable to scale our input data and shift the mean to zero before passing it to our model. We then both train and deploy our model using scaled input. So long as you apply the same normalization techniques to your test and production data that you did to the training data, the performance of your algorithm should greatly improve.\n"
   ]
  },
  {
   "cell_type": "code",
   "execution_count": 1,
   "metadata": {},
   "outputs": [],
   "source": [
    "import csv\n",
    "\n",
    "data = []\n",
    "with open('../../data/WISDM_ar_v1.1/WISDM_ar_v1.1_raw.txt', 'r') as f:\n",
    "    reader = csv.reader(f)\n",
    "    for row in reader:\n",
    "        # some of the data has bad lines, ignore\n",
    "        if len(row) == 6 or len(row) == 7:\n",
    "            try:\n",
    "                z = float(row[5].replace(';', ''))\n",
    "            except:\n",
    "                continue\n",
    "            # create a create a matrix with x, y, and z, accelerometer data\n",
    "            data.append((float(row[3]), float(row[4]), z))"
   ]
  },
  {
   "cell_type": "markdown",
   "metadata": {},
   "source": [
    "## Un-normalized (Raw Data)"
   ]
  },
  {
   "cell_type": "code",
   "execution_count": 2,
   "metadata": {},
   "outputs": [
    {
     "name": "stdout",
     "output_type": "stream",
     "text": [
      "x mean: 0.66    x std dev:6.85\n",
      "y mean: 7.26    y std dev:6.75\n",
      "z mean: 0.41    z std dev:4.75\n"
     ]
    },
    {
     "data": {
      "image/png": "[encoded data removed]",
      "text/plain": [
       "<matplotlib.figure.Figure at 0x7f3587bd6110>"
      ]
     },
     "metadata": {},
     "output_type": "display_data"
    }
   ],
   "source": [
    "from scipy.stats import norm\n",
    "import numpy as np\n",
    "import matplotlib.pyplot as plt\n",
    "\n",
    "x = [d[0] for d in data]\n",
    "y = [d[1] for d in data]\n",
    "z = [d[2] for d in data]\n",
    "\n",
    "print('x mean: {:.2f}    x std dev:{:.2f}'.format(np.mean(x), np.std(x)))\n",
    "print('y mean: {:.2f}    y std dev:{:.2f}'.format(np.mean(y), np.std(y)))\n",
    "print('z mean: {:.2f}    z std dev:{:.2f}'.format(np.mean(z), np.std(z)))\n",
    "\n",
    "plt.hist(x, bins=250, alpha=0.33)\n",
    "plt.hist(y, bins=250, alpha=0.33)\n",
    "plt.hist(z, bins=250, alpha=0.33)\n",
    "\n",
    "plt.show()"
   ]
  },
  {
   "cell_type": "markdown",
   "metadata": {},
   "source": [
    "## Zero-Mean and Unit Variance"
   ]
  },
  {
   "cell_type": "code",
   "execution_count": 3,
   "metadata": {},
   "outputs": [
    {
     "name": "stdout",
     "output_type": "stream",
     "text": [
      "x mean: 0.00    x std dev:1.00\n",
      "y mean: -0.00    y std dev:1.00\n",
      "z mean: 0.00    z std dev:1.00\n"
     ]
    },
    {
     "data": {
      "image/png": "[encoded data removed]",
      "text/plain": [
       "<matplotlib.figure.Figure at 0x7f35675589d0>"
      ]
     },
     "metadata": {},
     "output_type": "display_data"
    }
   ],
   "source": [
    "from sklearn import preprocessing\n",
    "\n",
    "x2 = preprocessing.scale(x)\n",
    "y2 = preprocessing.scale(y)\n",
    "z2 = preprocessing.scale(z)\n",
    "\n",
    "print('x mean: {:.2f}    x std dev:{:.2f}'.format(np.mean(x2), np.std(x2)))\n",
    "print('y mean: {:.2f}    y std dev:{:.2f}'.format(np.mean(y2), np.std(y2)))\n",
    "print('z mean: {:.2f}    z std dev:{:.2f}'.format(np.mean(z2), np.std(z2)))\n",
    "\n",
    "plt.hist(x2, bins=250, alpha=0.33)\n",
    "plt.hist(y2, bins=250, alpha=0.33)\n",
    "plt.hist(z2, bins=250, alpha=0.33)\n",
    "\n",
    "plt.show()"
   ]
  },
  {
   "cell_type": "markdown",
   "metadata": {},
   "source": [
    "## Feature-Wise Min-Max Scaler"
   ]
  },
  {
   "cell_type": "code",
   "execution_count": 4,
   "metadata": {},
   "outputs": [
    {
     "name": "stderr",
     "output_type": "stream",
     "text": [
      "/home/bbpwn2/Documents/Branger_Briz/machine-learning-docs/code/venv/local/lib/python2.7/site-packages/sklearn/preprocessing/data.py:321: DeprecationWarning: Passing 1d arrays as data is deprecated in 0.17 and will raise ValueError in 0.19. Reshape your data either using X.reshape(-1, 1) if your data has a single feature or X.reshape(1, -1) if it contains a single sample.\n",
      "  warnings.warn(DEPRECATION_MSG_1D, DeprecationWarning)\n",
      "/home/bbpwn2/Documents/Branger_Briz/machine-learning-docs/code/venv/local/lib/python2.7/site-packages/sklearn/preprocessing/data.py:356: DeprecationWarning: Passing 1d arrays as data is deprecated in 0.17 and will raise ValueError in 0.19. Reshape your data either using X.reshape(-1, 1) if your data has a single feature or X.reshape(1, -1) if it contains a single sample.\n",
      "  warnings.warn(DEPRECATION_MSG_1D, DeprecationWarning)\n",
      "/home/bbpwn2/Documents/Branger_Briz/machine-learning-docs/code/venv/local/lib/python2.7/site-packages/sklearn/preprocessing/data.py:321: DeprecationWarning: Passing 1d arrays as data is deprecated in 0.17 and will raise ValueError in 0.19. Reshape your data either using X.reshape(-1, 1) if your data has a single feature or X.reshape(1, -1) if it contains a single sample.\n",
      "  warnings.warn(DEPRECATION_MSG_1D, DeprecationWarning)\n",
      "/home/bbpwn2/Documents/Branger_Briz/machine-learning-docs/code/venv/local/lib/python2.7/site-packages/sklearn/preprocessing/data.py:356: DeprecationWarning: Passing 1d arrays as data is deprecated in 0.17 and will raise ValueError in 0.19. Reshape your data either using X.reshape(-1, 1) if your data has a single feature or X.reshape(1, -1) if it contains a single sample.\n",
      "  warnings.warn(DEPRECATION_MSG_1D, DeprecationWarning)\n",
      "/home/bbpwn2/Documents/Branger_Briz/machine-learning-docs/code/venv/local/lib/python2.7/site-packages/sklearn/preprocessing/data.py:321: DeprecationWarning: Passing 1d arrays as data is deprecated in 0.17 and will raise ValueError in 0.19. Reshape your data either using X.reshape(-1, 1) if your data has a single feature or X.reshape(1, -1) if it contains a single sample.\n",
      "  warnings.warn(DEPRECATION_MSG_1D, DeprecationWarning)\n",
      "/home/bbpwn2/Documents/Branger_Briz/machine-learning-docs/code/venv/local/lib/python2.7/site-packages/sklearn/preprocessing/data.py:356: DeprecationWarning: Passing 1d arrays as data is deprecated in 0.17 and will raise ValueError in 0.19. Reshape your data either using X.reshape(-1, 1) if your data has a single feature or X.reshape(1, -1) if it contains a single sample.\n",
      "  warnings.warn(DEPRECATION_MSG_1D, DeprecationWarning)\n"
     ]
    },
    {
     "name": "stdout",
     "output_type": "stream",
     "text": [
      "x mean: 0.51    x std dev:0.17\n",
      "y mean: 0.68    y std dev:0.17\n",
      "z mean: 0.51    z std dev:0.12\n"
     ]
    },
    {
     "data": {
      "image/png": "[encoded data removed]",
      "text/plain": [
       "<matplotlib.figure.Figure at 0x7f3567486350>"
      ]
     },
     "metadata": {},
     "output_type": "display_data"
    }
   ],
   "source": [
    "x3 = preprocessing.MinMaxScaler().fit_transform(x)\n",
    "y3 = preprocessing.MinMaxScaler().fit_transform(y)\n",
    "z3 = preprocessing.MinMaxScaler().fit_transform(z)\n",
    "\n",
    "print('x mean: {:.2f}    x std dev:{:.2f}'.format(np.mean(x3), np.std(x3)))\n",
    "print('y mean: {:.2f}    y std dev:{:.2f}'.format(np.mean(y3), np.std(y3)))\n",
    "print('z mean: {:.2f}    z std dev:{:.2f}'.format(np.mean(z3), np.std(z3)))\n",
    "\n",
    "plt.hist(x3, bins=250, alpha=0.33)\n",
    "plt.hist(y3, bins=250, alpha=0.33)\n",
    "plt.hist(z3, bins=250, alpha=0.33)\n",
    "\n",
    "plt.show()"
   ]
  },
  {
   "cell_type": "code",
   "execution_count": null,
   "metadata": {
    "collapsed": true
   },
   "outputs": [],
   "source": []
  }
 ],
 "metadata": {
  "kernelspec": {
   "display_name": "Python (BB ML Doc)",
   "language": "python",
   "name": "bb-ml-doc"
  },
  "language_info": {
   "codemirror_mode": {
    "name": "ipython",
    "version": 2
   },
   "file_extension": ".py",
   "mimetype": "text/x-python",
   "name": "python",
   "nbconvert_exporter": "python",
   "pygments_lexer": "ipython2",
   "version": "2.7.12"
  }
 },
 "nbformat": 4,
 "nbformat_minor": 2
}
