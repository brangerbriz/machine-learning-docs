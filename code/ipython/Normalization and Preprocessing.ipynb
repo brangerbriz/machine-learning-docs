{
 "cells": [
  {
   "cell_type": "markdown",
   "metadata": {},
   "source": [
    "# Normalization and Whitening\n",
    "\n",
    "Most machine learning algorithms only perform well on data that has been properly prepaired. In practice it is almost always preferable to scale our input data and shift the mean to zero before passing it to our model. We then both train and deploy our model using scaled input. So long as you apply the same normalization techniques to your test and production data that you did to the training data, the performance of your algorithm should greatly improve.\n"
   ]
  },
  {
   "cell_type": "code",
   "execution_count": 13,
   "metadata": {
    "collapsed": true
   },
   "outputs": [],
   "source": [
    "import csv\n",
    "import numpy as np\n",
    "import matplotlib.pyplot as plt\n",
    "from sklearn import preprocessing\n",
    "from scipy.stats import norm\n",
    "\n",
    "from pylab import rcParams\n",
    "rcParams['figure.figsize'] = 12, 6\n",
    "\n",
    "data = []\n",
    "# load the csv\n",
    "with open('../../data/WISDM_ar_v1.1/WISDM_ar_v1.1_raw.txt', 'r') as f:\n",
    "    reader = csv.reader(f)\n",
    "    for row in reader:\n",
    "        # some of the data has bad lines, ignore\n",
    "        if len(row) == 6 or len(row) == 7:\n",
    "            try:\n",
    "                z = float(row[5].replace(';', ''))\n",
    "            except:\n",
    "                continue\n",
    "            # create a design matrix with:\n",
    "            # user, activity (string), timestamp, x, y, and z accelerometer data\n",
    "            data.append((int(row[0]), row[1], int(row[2]), float(row[3]), float(row[4]), z))"
   ]
  },
  {
   "cell_type": "markdown",
   "metadata": {},
   "source": [
    "## Un-normalized (Raw Data)\n",
    "\n",
    "Below is a histogram showing the data distribution from raw data. We can see that accelerometer data from the x and z axies are fairly normaly distributed. However, the mean of the y axis accelerometer appears to be shifted significantly to the right."
   ]
  },
  {
   "cell_type": "code",
   "execution_count": 14,
   "metadata": {},
   "outputs": [
    {
     "name": "stdout",
     "output_type": "stream",
     "text": [
      "x mean: 0.66    x std dev:6.85\n",
      "y mean: 7.26    y std dev:6.75\n",
      "z mean: 0.41    z std dev:4.75\n"
     ]
    },
    {
     "data": {
      "image/png": "[encoded data removed]",
      "text/plain": [
       "<matplotlib.figure.Figure at 0x7faa932ed3d0>"
      ]
     },
     "metadata": {},
     "output_type": "display_data"
    }
   ],
   "source": [
    "x = [d[3] for d in data]\n",
    "y = [d[4] for d in data]\n",
    "z = [d[5] for d in data]\n",
    "\n",
    "print('x mean: {:.2f}    x std dev:{:.2f}'.format(np.mean(x), np.std(x)))\n",
    "print('y mean: {:.2f}    y std dev:{:.2f}'.format(np.mean(y), np.std(y)))\n",
    "print('z mean: {:.2f}    z std dev:{:.2f}'.format(np.mean(z), np.std(z)))\n",
    "\n",
    "plt.hist(x, bins=250, alpha=0.5, label='x', color='r')\n",
    "plt.hist(y, bins=250, alpha=0.5, label='y', color='g')\n",
    "plt.hist(z, bins=250, alpha=0.5, label='z', color='b')\n",
    "plt.legend(loc='upper right')\n",
    "plt.show()"
   ]
  },
  {
   "cell_type": "markdown",
   "metadata": {},
   "source": [
    "## Feature-Wise Min-Max Scaler\n",
    "\n",
    "One method of normalization is a simple min-max scaler which scales the values from one range to another. By default, it finds the smallest and largest values in the dataset and applies a transformation to all values such that those min and max values are now `0.0` and `1.0`. We've instead chosen to re-map the values between `-1.0` and `1.0`. Notice how the values on the x-axis below have changed but the overal distribution appears identical to the raw data. "
   ]
  },
  {
   "cell_type": "code",
   "execution_count": 15,
   "metadata": {},
   "outputs": [
    {
     "name": "stderr",
     "output_type": "stream",
     "text": [
      "/home/bbpwn2/Documents/Branger_Briz/machine-learning-docs/code/venv/local/lib/python2.7/site-packages/sklearn/preprocessing/data.py:321: DeprecationWarning: Passing 1d arrays as data is deprecated in 0.17 and will raise ValueError in 0.19. Reshape your data either using X.reshape(-1, 1) if your data has a single feature or X.reshape(1, -1) if it contains a single sample.\n",
      "  warnings.warn(DEPRECATION_MSG_1D, DeprecationWarning)\n",
      "/home/bbpwn2/Documents/Branger_Briz/machine-learning-docs/code/venv/local/lib/python2.7/site-packages/sklearn/preprocessing/data.py:356: DeprecationWarning: Passing 1d arrays as data is deprecated in 0.17 and will raise ValueError in 0.19. Reshape your data either using X.reshape(-1, 1) if your data has a single feature or X.reshape(1, -1) if it contains a single sample.\n",
      "  warnings.warn(DEPRECATION_MSG_1D, DeprecationWarning)\n",
      "/home/bbpwn2/Documents/Branger_Briz/machine-learning-docs/code/venv/local/lib/python2.7/site-packages/sklearn/preprocessing/data.py:321: DeprecationWarning: Passing 1d arrays as data is deprecated in 0.17 and will raise ValueError in 0.19. Reshape your data either using X.reshape(-1, 1) if your data has a single feature or X.reshape(1, -1) if it contains a single sample.\n",
      "  warnings.warn(DEPRECATION_MSG_1D, DeprecationWarning)\n",
      "/home/bbpwn2/Documents/Branger_Briz/machine-learning-docs/code/venv/local/lib/python2.7/site-packages/sklearn/preprocessing/data.py:356: DeprecationWarning: Passing 1d arrays as data is deprecated in 0.17 and will raise ValueError in 0.19. Reshape your data either using X.reshape(-1, 1) if your data has a single feature or X.reshape(1, -1) if it contains a single sample.\n",
      "  warnings.warn(DEPRECATION_MSG_1D, DeprecationWarning)\n",
      "/home/bbpwn2/Documents/Branger_Briz/machine-learning-docs/code/venv/local/lib/python2.7/site-packages/sklearn/preprocessing/data.py:321: DeprecationWarning: Passing 1d arrays as data is deprecated in 0.17 and will raise ValueError in 0.19. Reshape your data either using X.reshape(-1, 1) if your data has a single feature or X.reshape(1, -1) if it contains a single sample.\n",
      "  warnings.warn(DEPRECATION_MSG_1D, DeprecationWarning)\n",
      "/home/bbpwn2/Documents/Branger_Briz/machine-learning-docs/code/venv/local/lib/python2.7/site-packages/sklearn/preprocessing/data.py:356: DeprecationWarning: Passing 1d arrays as data is deprecated in 0.17 and will raise ValueError in 0.19. Reshape your data either using X.reshape(-1, 1) if your data has a single feature or X.reshape(1, -1) if it contains a single sample.\n",
      "  warnings.warn(DEPRECATION_MSG_1D, DeprecationWarning)\n"
     ]
    },
    {
     "name": "stdout",
     "output_type": "stream",
     "text": [
      "x mean: 0.02    x std dev:0.35\n",
      "y mean: 0.36    y std dev:0.34\n",
      "z mean: 0.03    z std dev:0.24\n"
     ]
    },
    {
     "data": {
      "image/png": "[encoded data removed]",
      "text/plain": [
       "<matplotlib.figure.Figure at 0x7faa8948e850>"
      ]
     },
     "metadata": {},
     "output_type": "display_data"
    }
   ],
   "source": [
    "# in sklearn, MinMaxScaler is a class with fit_transform as a method that applies\n",
    "# the actual transformation. This is because it is a common practice to use your\n",
    "# training data to learn what that range mapping is, and then use that same range\n",
    "# mapping come test/production time on new data, that may have larger maxes or lower min values\n",
    "# but can be assumed to have a similar distribution to the training data.\n",
    "\n",
    "x2 = preprocessing.MinMaxScaler(feature_range=(-1.0, 1.0)).fit_transform(x)\n",
    "y2 = preprocessing.MinMaxScaler(feature_range=(-1.0, 1.0)).fit_transform(y)\n",
    "z2 = preprocessing.MinMaxScaler(feature_range=(-1.0, 1.0)).fit_transform(z)\n",
    "\n",
    "print('x mean: {:.2f}    x std dev:{:.2f}'.format(np.mean(x2), np.std(x2)))\n",
    "print('y mean: {:.2f}    y std dev:{:.2f}'.format(np.mean(y2), np.std(y2)))\n",
    "print('z mean: {:.2f}    z std dev:{:.2f}'.format(np.mean(z2), np.std(z2)))\n",
    "\n",
    "plt.hist(x2, bins=250, alpha=0.5, label=\"x\", color='r')\n",
    "plt.hist(y2, bins=250, alpha=0.5, label=\"y\", color='g')\n",
    "plt.hist(z2, bins=250, alpha=0.5, label=\"z\", color='b')\n",
    "plt.legend(loc='upper right')\n",
    "plt.show()"
   ]
  },
  {
   "cell_type": "markdown",
   "metadata": {},
   "source": [
    "## Zero-Mean and Unit Variance"
   ]
  },
  {
   "cell_type": "code",
   "execution_count": 16,
   "metadata": {},
   "outputs": [
    {
     "name": "stdout",
     "output_type": "stream",
     "text": [
      "x mean: 0.00    x std dev:1.00\n",
      "y mean: -0.00    y std dev:1.00\n",
      "z mean: 0.00    z std dev:1.00\n"
     ]
    },
    {
     "data": {
      "image/png": "[encoded data removed]",
      "text/plain": [
       "<matplotlib.figure.Figure at 0x7faa88bb96d0>"
      ]
     },
     "metadata": {},
     "output_type": "display_data"
    }
   ],
   "source": [
    "x3 = preprocessing.scale(x)\n",
    "y3 = preprocessing.scale(y)\n",
    "z3 = preprocessing.scale(z)\n",
    "\n",
    "print('x mean: {:.2f}    x std dev:{:.2f}'.format(np.mean(x3), np.std(x3)))\n",
    "print('y mean: {:.2f}    y std dev:{:.2f}'.format(np.mean(y3), np.std(y3)))\n",
    "print('z mean: {:.2f}    z std dev:{:.2f}'.format(np.mean(z3), np.std(z3)))\n",
    "\n",
    "plt.hist(x3, bins=250, alpha=0.5, label='x', color='r')\n",
    "plt.hist(y3, bins=250, alpha=0.5, label='y', color='g')\n",
    "plt.hist(z3, bins=250, alpha=0.5, label='z', color='b')\n",
    "plt.legend(loc='upper right')\n",
    "plt.show()"
   ]
  },
  {
   "cell_type": "markdown",
   "metadata": {},
   "source": [
    "## Zero-Mean and Unit Variance + Min/Max Scaler"
   ]
  },
  {
   "cell_type": "code",
   "execution_count": 17,
   "metadata": {},
   "outputs": [
    {
     "name": "stdout",
     "output_type": "stream",
     "text": [
      "x mean: -0.02    x std dev:0.35\n",
      "y mean: -0.36    y std dev:0.34\n",
      "z mean: -0.03    z std dev:0.24\n"
     ]
    },
    {
     "data": {
      "image/png": "[encoded data removed]",
      "text/plain": [
       "<matplotlib.figure.Figure at 0x7faa946a20d0>"
      ]
     },
     "metadata": {},
     "output_type": "display_data"
    }
   ],
   "source": [
    "def normalize(a):\n",
    "    return 2 * (a - np.max(a))/-np.ptp(a) - 1\n",
    "\n",
    "x4 = normalize(preprocessing.scale(x))\n",
    "y4 = normalize(preprocessing.scale(y))\n",
    "z4 = normalize(preprocessing.scale(z))\n",
    "\n",
    "print('x mean: {:.2f}    x std dev:{:.2f}'.format(np.mean(x4), np.std(x4)))\n",
    "print('y mean: {:.2f}    y std dev:{:.2f}'.format(np.mean(y4), np.std(y4)))\n",
    "print('z mean: {:.2f}    z std dev:{:.2f}'.format(np.mean(z4), np.std(z4)))\n",
    "\n",
    "plt.hist(x4, bins=250, alpha=0.5, label='x', color='r')\n",
    "plt.hist(y4, bins=250, alpha=0.5, label='y', color='g')\n",
    "plt.hist(z4, bins=250, alpha=0.5, label='z', color='b')\n",
    "plt.legend(loc='upper right')\n",
    "plt.show()"
   ]
  },
  {
   "cell_type": "markdown",
   "metadata": {},
   "source": [
    "## Prepaire Data"
   ]
  },
  {
   "cell_type": "code",
   "execution_count": 18,
   "metadata": {},
   "outputs": [
    {
     "name": "stdout",
     "output_type": "stream",
     "text": [
      "(933417, 60, 3)\n"
     ]
    }
   ],
   "source": [
    "from keras.utils.np_utils import to_categorical\n",
    "\n",
    "def activity_as_int(activity):\n",
    "    if activity == 'Walking':\n",
    "        return 0\n",
    "    elif activity == 'Jogging':\n",
    "        return 1\n",
    "    elif activity == 'Sitting':\n",
    "        return 2\n",
    "    elif activity == 'Standing':\n",
    "        return 3\n",
    "    elif activity == 'Upstairs':\n",
    "        return 4\n",
    "    elif activity == 'Downstairs':\n",
    "        return 5\n",
    "    else: \n",
    "        # error\n",
    "        return -1\n",
    "\n",
    "def get_sliding_windows(X, y, window_size):\n",
    "    X_, y_ = [], []\n",
    "    for i in range(len(X) - window_size):\n",
    "        X_.append(X[i:i + window_size])\n",
    "        y_.append(y[i + window_size])\n",
    "    return np.array(X_), y_\n",
    "    \n",
    "split = 0.85\n",
    "window_size = 60 # 20hz sample rate, so we use a window size of 3 seconds\n",
    "targets = to_categorical([activity_as_int(d[1]) for d in data], 6)\n",
    "inputs, targets = get_sliding_windows(zip(x2, y2, z2), targets, window_size)\n",
    "\n",
    "X_train = inputs[0:int(len(inputs) * split)]\n",
    "X_test  = inputs[int(len(inputs) * split):]\n",
    "\n",
    "y_train = targets[0:int(len(targets) * split)]\n",
    "y_test  = targets[int(len(targets) * split):]\n",
    "\n",
    "print(X_train.shape)\n",
    "# y_train = y_train[0:len(X_train)]\n",
    "# y_test = y_test[0:len(X_test)]\n",
    "\n",
    "assert len(X_test) == len(y_test)\n",
    "assert len(X_train) == len(y_train)"
   ]
  },
  {
   "cell_type": "markdown",
   "metadata": {
    "collapsed": true
   },
   "source": [
    "# Training"
   ]
  },
  {
   "cell_type": "code",
   "execution_count": 7,
   "metadata": {},
   "outputs": [
    {
     "ename": "ImportError",
     "evalue": "No module named keras_weight_animator",
     "output_type": "error",
     "traceback": [
      "\u001b[0;31m---------------------------------------------------------------------------\u001b[0m",
      "\u001b[0;31mImportError\u001b[0m                               Traceback (most recent call last)",
      "\u001b[0;32m<ipython-input-7-1dc2b3c00f4e>\u001b[0m in \u001b[0;36m<module>\u001b[0;34m()\u001b[0m\n\u001b[1;32m      6\u001b[0m \u001b[0;32mfrom\u001b[0m \u001b[0mkeras\u001b[0m\u001b[0;34m.\u001b[0m\u001b[0mlayers\u001b[0m\u001b[0;34m.\u001b[0m\u001b[0mrecurrent\u001b[0m \u001b[0;32mimport\u001b[0m \u001b[0mLSTM\u001b[0m\u001b[0;34m\u001b[0m\u001b[0m\n\u001b[1;32m      7\u001b[0m \u001b[0;32mfrom\u001b[0m \u001b[0mkeras\u001b[0m\u001b[0;34m.\u001b[0m\u001b[0mcallbacks\u001b[0m \u001b[0;32mimport\u001b[0m \u001b[0mLambdaCallback\u001b[0m\u001b[0;34m\u001b[0m\u001b[0m\n\u001b[0;32m----> 8\u001b[0;31m \u001b[0;32mfrom\u001b[0m \u001b[0mkeras_weight_animator\u001b[0m \u001b[0;32mimport\u001b[0m \u001b[0mimage_saver_callback\u001b[0m\u001b[0;34m\u001b[0m\u001b[0m\n\u001b[0m\u001b[1;32m      9\u001b[0m \u001b[0;34m\u001b[0m\u001b[0m\n\u001b[1;32m     10\u001b[0m \u001b[0;32mdef\u001b[0m \u001b[0mget_model\u001b[0m\u001b[0;34m(\u001b[0m\u001b[0mwindow_size\u001b[0m\u001b[0;34m)\u001b[0m\u001b[0;34m:\u001b[0m\u001b[0;34m\u001b[0m\u001b[0m\n",
      "\u001b[0;31mImportError\u001b[0m: No module named keras_weight_animator"
     ]
    }
   ],
   "source": [
    "import os, sys\n",
    "sys.path.append('/home/brannon/Documents/code')\n",
    "\n",
    "from keras.models import Sequential\n",
    "from keras.layers import Dense, Activation, Dropout\n",
    "from keras.layers.recurrent import LSTM\n",
    "from keras.callbacks import LambdaCallback\n",
    "from keras_weight_animator import image_saver_callback\n",
    "\n",
    "def get_model(window_size):\n",
    "    \n",
    "    model = Sequential()\n",
    "    model.add(LSTM(64, \n",
    "                   batch_input_shape=(32, window_size, 3), \n",
    "                   return_sequences=False, stateful=False))\n",
    "    model.add(Activation('relu'))\n",
    "#     model.add(Dropout(0.25))\n",
    "#     model.add(LSTM(32, return_sequences=False))\n",
    "#     model.add(Activation('relu'))\n",
    "#     model.add(Dropout(0.25))\n",
    "    model.add(Dense(6))\n",
    "    model.add(Activation('softmax'))\n",
    "    \n",
    "    model.compile(optimizer='rmsprop',\n",
    "              loss='categorical_crossentropy',\n",
    "              metrics=['accuracy'])\n",
    "    \n",
    "    return model\n",
    "\n",
    "X_train = np.array(X_train[0: len(X_train) - (len(X_train) % 32)])\n",
    "y_train = np.array(y_train[0: len(y_train) - (len(y_train) % 32)])\n",
    "\n",
    "model = get_model(window_size)\n",
    "callbacks = [image_saver_callback(model, './data/weight_animator/01', cmap='bwr', images_only=True)]\n",
    "history = model.fit(X_train, y_train, epochs=1, shuffle=True, callbacks=callbacks)"
   ]
  },
  {
   "cell_type": "code",
   "execution_count": null,
   "metadata": {
    "collapsed": true
   },
   "outputs": [],
   "source": [
    "# must be multiples of batch size\n",
    "X_test = X_test[0:len(X_test) - (len(X_test) % 32)]\n",
    "y_test = np.array(y_test[0:len(y_test) - (len(y_test) % 32)])\n",
    "\n",
    "score = model.evaluate(X_test, y_test)\n",
    "print(score)"
   ]
  },
  {
   "cell_type": "markdown",
   "metadata": {},
   "source": [
    "## Compare Real and Predicted Distributions"
   ]
  },
  {
   "cell_type": "code",
   "execution_count": null,
   "metadata": {
    "collapsed": true
   },
   "outputs": [],
   "source": [
    "# create predictions using trained model\n",
    "predicted = model.predict(X_test)\n",
    "\n",
    "# convert from one-hot to integer\n",
    "y_test_int = [np.argmax(y) + 1 for y in y_test]\n",
    "y_pred_int = [np.argmax(y) + 1 for y in predicted]\n",
    "\n",
    "# draw the histograms\n",
    "plt.hist(y_test_int, bins=6, alpha=0.5, label='real', color='r')\n",
    "plt.hist(y_pred_int, bins=6, alpha=0.5, label='predicted', color='b')\n",
    "plt.legend(loc='upper right')\n",
    "plt.show()"
   ]
  },
  {
   "cell_type": "markdown",
   "metadata": {},
   "source": [
    "## Visualize the Weights"
   ]
  },
  {
   "cell_type": "code",
   "execution_count": null,
   "metadata": {
    "collapsed": true
   },
   "outputs": [],
   "source": [
    "for layer in model.layers:\n",
    "    if len(layer.get_weights()) > 0:\n",
    "        print('LAYER')\n",
    "        for i, weights in enumerate(layer.get_weights()):\n",
    "            print('shape: {}'.format(weights.shape))\n",
    "            if len(weights.shape) < 2:\n",
    "                weights = np.expand_dims(weights, axis=0)\n",
    "            if weights.shape[0] < weights.shape[1]:\n",
    "                if i == 0:\n",
    "                    size = (18, 0.5)\n",
    "                if i == 1:\n",
    "                    size = (18, 5)\n",
    "                if i == 2:\n",
    "                    size = (18, 0.2)\n",
    "                fig, ax = plt.subplots(figsize=size)\n",
    "            else:\n",
    "                fig, ax = plt.subplots(figsize=(1, 10))\n",
    "            ax.imshow(weights, cmap='seismic', aspect='auto', interpolation='nearest')\n",
    "            plt.show()\n"
   ]
  },
  {
   "cell_type": "code",
   "execution_count": null,
   "metadata": {
    "collapsed": true
   },
   "outputs": [],
   "source": []
  }
 ],
 "metadata": {
  "kernelspec": {
   "display_name": "Python (BB ML Doc)",
   "language": "python",
   "name": "bb-ml-doc"
  },
  "language_info": {
   "codemirror_mode": {
    "name": "ipython",
    "version": 2
   },
   "file_extension": ".py",
   "mimetype": "text/x-python",
   "name": "python",
   "nbconvert_exporter": "python",
   "pygments_lexer": "ipython2",
   "version": "2.7.12"
  }
 },
 "nbformat": 4,
 "nbformat_minor": 2
}
