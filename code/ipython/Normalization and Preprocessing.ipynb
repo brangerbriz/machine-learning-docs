{
 "cells": [
  {
   "cell_type": "markdown",
   "metadata": {},
   "source": [
    "# Normalization and Whitening\n",
    "\n",
    "Most machine learning algorithms only perform well on data that has been properly prepaired. In practice it is almost always preferable to scale our input data and shift the mean to zero before passing it to our model. We then both train and deploy our model using scaled input. So long as you apply the same normalization techniques to your test and production data that you did to the training data, the performance of your algorithm should greatly improve.\n"
   ]
  },
  {
   "cell_type": "code",
   "execution_count": 1,
   "metadata": {},
   "outputs": [],
   "source": [
    "import csv\n",
    "import numpy as np\n",
    "import matplotlib.pyplot as plt\n",
    "from sklearn import preprocessing\n",
    "from scipy.stats import norm\n",
    "\n",
    "data = []\n",
    "with open('../../data/WISDM_ar_v1.1/WISDM_ar_v1.1_raw.txt', 'r') as f:\n",
    "    reader = csv.reader(f)\n",
    "    for row in reader:\n",
    "        # some of the data has bad lines, ignore\n",
    "        if len(row) == 6 or len(row) == 7:\n",
    "            try:\n",
    "                z = float(row[5].replace(';', ''))\n",
    "            except:\n",
    "                continue\n",
    "            # create a create a matrix with x, y, and z, accelerometer data\n",
    "            data.append((float(row[3]), float(row[4]), z))"
   ]
  },
  {
   "cell_type": "markdown",
   "metadata": {},
   "source": [
    "## Un-normalized (Raw Data)"
   ]
  },
  {
   "cell_type": "code",
   "execution_count": 2,
   "metadata": {},
   "outputs": [
    {
     "name": "stdout",
     "output_type": "stream",
     "text": [
      "x mean: 0.66    x std dev:6.85\n",
      "y mean: 7.26    y std dev:6.75\n",
      "z mean: 0.41    z std dev:4.75\n"
     ]
    },
    {
     "data": {
      "image/png": "[encoded data removed]",
      "text/plain": [
       "<matplotlib.figure.Figure at 0x7f5688718410>"
      ]
     },
     "metadata": {},
     "output_type": "display_data"
    }
   ],
   "source": [
    "x = [d[0] for d in data]\n",
    "y = [d[1] for d in data]\n",
    "z = [d[2] for d in data]\n",
    "\n",
    "print('x mean: {:.2f}    x std dev:{:.2f}'.format(np.mean(x), np.std(x)))\n",
    "print('y mean: {:.2f}    y std dev:{:.2f}'.format(np.mean(y), np.std(y)))\n",
    "print('z mean: {:.2f}    z std dev:{:.2f}'.format(np.mean(z), np.std(z)))\n",
    "\n",
    "plt.hist(x, bins=250, alpha=0.33)\n",
    "plt.hist(y, bins=250, alpha=0.33)\n",
    "plt.hist(z, bins=250, alpha=0.33)\n",
    "\n",
    "plt.show()"
   ]
  },
  {
   "cell_type": "markdown",
   "metadata": {},
   "source": [
    "## Feature-Wise Min-Max Scaler"
   ]
  },
  {
   "cell_type": "code",
   "execution_count": null,
   "metadata": {},
   "outputs": [],
   "source": [
    "x2 = preprocessing.MinMaxScaler().fit_transform(x)\n",
    "y2 = preprocessing.MinMaxScaler().fit_transform(y)\n",
    "z2 = preprocessing.MinMaxScaler().fit_transform(z)\n",
    "\n",
    "print('x mean: {:.2f}    x std dev:{:.2f}'.format(np.mean(x2), np.std(x2)))\n",
    "print('y mean: {:.2f}    y std dev:{:.2f}'.format(np.mean(y2), np.std(y2)))\n",
    "print('z mean: {:.2f}    z std dev:{:.2f}'.format(np.mean(z2), np.std(z2)))\n",
    "\n",
    "plt.hist(x2, bins=250, alpha=0.33)\n",
    "plt.hist(y2, bins=250, alpha=0.33)\n",
    "plt.hist(z2, bins=250, alpha=0.33)\n",
    "\n",
    "plt.show()"
   ]
  },
  {
   "cell_type": "markdown",
   "metadata": {},
   "source": [
    "## Zero-Mean and Unit Variance"
   ]
  },
  {
   "cell_type": "code",
   "execution_count": 4,
   "metadata": {},
   "outputs": [
    {
     "name": "stdout",
     "output_type": "stream",
     "text": [
      "x mean: 0.00    x std dev:1.00\n",
      "y mean: -0.00    y std dev:1.00\n",
      "z mean: 0.00    z std dev:1.00\n"
     ]
    },
    {
     "data": {
      "image/png": "[encoded data removed]",
      "text/plain": [
       "<matplotlib.figure.Figure at 0x7f56c43983d0>"
      ]
     },
     "metadata": {},
     "output_type": "display_data"
    }
   ],
   "source": [
    "x3 = preprocessing.scale(x)\n",
    "y3 = preprocessing.scale(y)\n",
    "z3 = preprocessing.scale(z)\n",
    "\n",
    "print('x mean: {:.2f}    x std dev:{:.2f}'.format(np.mean(x3), np.std(x3)))\n",
    "print('y mean: {:.2f}    y std dev:{:.2f}'.format(np.mean(y3), np.std(y3)))\n",
    "print('z mean: {:.2f}    z std dev:{:.2f}'.format(np.mean(z3), np.std(z3)))\n",
    "\n",
    "plt.hist(x3, bins=250, alpha=0.33)\n",
    "plt.hist(y3, bins=250, alpha=0.33)\n",
    "plt.hist(z3, bins=250, alpha=0.33)\n",
    "\n",
    "plt.show()"
   ]
  },
  {
   "cell_type": "code",
   "execution_count": null,
   "metadata": {
    "collapsed": true
   },
   "outputs": [],
   "source": []
  }
 ],
 "metadata": {
  "kernelspec": {
   "display_name": "Python (BB ML Doc)",
   "language": "python",
   "name": "bb-ml-doc"
  },
  "language_info": {
   "codemirror_mode": {
    "name": "ipython",
    "version": 2
   },
   "file_extension": ".py",
   "mimetype": "text/x-python",
   "name": "python",
   "nbconvert_exporter": "python",
   "pygments_lexer": "ipython2",
   "version": "2.7.12"
  }
 },
 "nbformat": 4,
 "nbformat_minor": 2
}
